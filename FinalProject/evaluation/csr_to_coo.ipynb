{
 "cells": [
  {
   "cell_type": "code",
   "execution_count": 7,
   "metadata": {},
   "outputs": [],
   "source": [
    "rows = 4\n",
    "columns = 4\n",
    "nnz = 5\n",
    "row_offsets_csr = [0, 2, 4, 4, 5]\n",
    "column_indices_csr = [1, 3, 0, 1, 2]\n",
    "values_csr = [1, 2, 3, 4, 5]"
   ]
  },
  {
   "cell_type": "code",
   "execution_count": 8,
   "metadata": {},
   "outputs": [
    {
     "name": "stdout",
     "output_type": "stream",
     "text": [
      "[0, 0, 1, 1, 3]\n"
     ]
    }
   ],
   "source": [
    "# convert CSR to COO\n",
    "row_indices_coo = [0, 0, 0, 0, 0]\n",
    "column_indices_coo = column_indices_csr\n",
    "values_coo = values_csr\n",
    "\n",
    "for i in range(rows):\n",
    "    num_elements_in_row = row_offsets_csr[i+1] -row_offsets_csr[i]\n",
    "    \n",
    "    for j in range(num_elements_in_row):\n",
    "        row_indices_coo[row_offsets_csr[i] + j] = i\n",
    "\n",
    "print(row_indices_coo)"
   ]
  },
  {
   "cell_type": "code",
   "execution_count": 9,
   "metadata": {},
   "outputs": [
    {
     "name": "stdout",
     "output_type": "stream",
     "text": [
      "[1, 3, 0, 1, 2]\n",
      "[0, 0, 1, 1, 3]\n",
      "[1, 2, 3, 4, 5]\n"
     ]
    }
   ],
   "source": [
    "# transpose COO\n",
    "for i in range(nnz):\n",
    "    tmp = row_indices_coo[i]\n",
    "    row_indices_coo[i] = column_indices_coo[i]\n",
    "    column_indices_coo[i] = tmp\n",
    "\n",
    "print(row_indices_coo)\n",
    "print(column_indices_coo)\n",
    "print(values_coo)"
   ]
  },
  {
   "cell_type": "code",
   "execution_count": 10,
   "metadata": {},
   "outputs": [
    {
     "name": "stdout",
     "output_type": "stream",
     "text": [
      "[1, 2, 1, 1]\n"
     ]
    }
   ],
   "source": [
    "# convert back to CSR\n",
    "# count number of values in rows\n",
    "num_nnz_in_rows = [0, 0, 0, 0]\n",
    "\n",
    "for i in range(nnz):\n",
    "    num_nnz_in_rows[row_indices_coo[i]] += 1\n",
    "    \n",
    "print(num_nnz_in_rows)"
   ]
  },
  {
   "cell_type": "code",
   "execution_count": 11,
   "metadata": {},
   "outputs": [
    {
     "name": "stdout",
     "output_type": "stream",
     "text": [
      "[0, 1, 3, 4, 5]\n"
     ]
    }
   ],
   "source": [
    "# sum them up\n",
    "tp_row_offsets_csr = [0, 0, 0, 0, 0]\n",
    "\n",
    "for i in range(rows):\n",
    "    for j in range(i+1):\n",
    "        tp_row_offsets_csr[i+1] += num_nnz_in_rows[j]\n",
    "        \n",
    "print(tp_row_offsets_csr)"
   ]
  },
  {
   "cell_type": "code",
   "execution_count": 12,
   "metadata": {},
   "outputs": [
    {
     "name": "stdout",
     "output_type": "stream",
     "text": [
      "[0, 1, 3, 4, 5]\n",
      "[1, 0, 1, 3, 0]\n",
      "[3, 1, 4, 5, 2]\n"
     ]
    }
   ],
   "source": [
    "# figure out where the columns and values go\n",
    "saved_values_in_row = [0, 0, 0, 0]\n",
    "tp_col_indices_csr = [0, 0, 0, 0, 0]\n",
    "tp_values_csr = [0, 0, 0, 0, 0]\n",
    "\n",
    "for i in range(nnz):\n",
    "    row = row_indices_coo[i]\n",
    "    \n",
    "    tp_col_indices_csr[tp_row_offsets_csr[row] + saved_values_in_row[row]] = column_indices_coo[i]\n",
    "    tp_values_csr[tp_row_offsets_csr[row] + saved_values_in_row[row]] = values_coo[i]\n",
    "    \n",
    "    saved_values_in_row[row] += 1\n",
    "    \n",
    "print(tp_row_offsets_csr)\n",
    "print(tp_col_indices_csr)\n",
    "print(tp_values_csr)"
   ]
  },
  {
   "cell_type": "code",
   "execution_count": null,
   "metadata": {},
   "outputs": [],
   "source": []
  }
 ],
 "metadata": {
  "kernelspec": {
   "display_name": "Python 3",
   "language": "python",
   "name": "python3"
  },
  "language_info": {
   "codemirror_mode": {
    "name": "ipython",
    "version": 3
   },
   "file_extension": ".py",
   "mimetype": "text/x-python",
   "name": "python",
   "nbconvert_exporter": "python",
   "pygments_lexer": "ipython3",
   "version": "3.8.10"
  }
 },
 "nbformat": 4,
 "nbformat_minor": 2
}
