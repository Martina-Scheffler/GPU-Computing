{
 "cells": [
  {
   "cell_type": "code",
   "execution_count": 4,
   "metadata": {},
   "outputs": [],
   "source": [
    "rows = 4\n",
    "columns = 4\n",
    "nnz = 5\n",
    "row_offsets_csr = [0, 2, 4, 4, 5]\n",
    "column_indices_csr = [1, 3, 0, 1, 2]\n",
    "values_csr = [1, 2, 3, 4, 5]"
   ]
  },
  {
   "cell_type": "code",
   "execution_count": 5,
   "metadata": {},
   "outputs": [],
   "source": [
    "num_elements_in_col = [0, 0, 0, 0]"
   ]
  },
  {
   "cell_type": "code",
   "execution_count": 6,
   "metadata": {},
   "outputs": [
    {
     "name": "stdout",
     "output_type": "stream",
     "text": [
      "[1, 2, 1, 1]\n"
     ]
    }
   ],
   "source": [
    "for i in range(nnz):\n",
    "    num_elements_in_col[column_indices_csr[i]] += 1\n",
    "print(num_elements_in_col)"
   ]
  },
  {
   "cell_type": "code",
   "execution_count": 7,
   "metadata": {},
   "outputs": [
    {
     "name": "stdout",
     "output_type": "stream",
     "text": [
      "[0, 1, 3, 4, 5]\n"
     ]
    }
   ],
   "source": [
    "column_offsets_csc = [0, 0, 0, 0, 0]\n",
    "for i in range(columns):\n",
    "    for j in range(i+1):\n",
    "        column_offsets_csc[i+1] += num_elements_in_col[j]\n",
    "print(column_offsets_csc)"
   ]
  },
  {
   "cell_type": "code",
   "execution_count": 8,
   "metadata": {},
   "outputs": [
    {
     "name": "stdout",
     "output_type": "stream",
     "text": [
      "[1, 0, 1, 3, 0]\n",
      "[3, 1, 4, 5, 2]\n"
     ]
    }
   ],
   "source": [
    "row_indices_csc = [0, 0, 0, 0, 0]\n",
    "values_csc = [0, 0, 0, 0, 0]\n",
    "values_stored_from_col = [0, 0, 0, 0]\n",
    "\n",
    "for i in range(rows):\n",
    "    num_values = row_offsets_csr[i+1] - row_offsets_csr[i]\n",
    "    for j in range(num_values):\n",
    "        col = column_indices_csr[row_offsets_csr[i] + j]\n",
    "        row_indices_csc[column_offsets_csc[col] + values_stored_from_col[col]] = i\n",
    "        values_csc[column_offsets_csc[col] + values_stored_from_col[col]] = values_csr[row_offsets_csr[i] + j]\n",
    "        values_stored_from_col[col] += 1\n",
    "        \n",
    "print(row_indices_csc)\n",
    "print(values_csc)"
   ]
  }
 ],
 "metadata": {
  "kernelspec": {
   "display_name": "Python 3",
   "language": "python",
   "name": "python3"
  },
  "language_info": {
   "codemirror_mode": {
    "name": "ipython",
    "version": 3
   },
   "file_extension": ".py",
   "mimetype": "text/x-python",
   "name": "python",
   "nbconvert_exporter": "python",
   "pygments_lexer": "ipython3",
   "version": "3.10.12"
  }
 },
 "nbformat": 4,
 "nbformat_minor": 2
}
