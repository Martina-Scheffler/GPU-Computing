{
 "cells": [
  {
   "cell_type": "code",
   "execution_count": 98,
   "metadata": {},
   "outputs": [],
   "source": [
    "import csv\n",
    "import numpy as np\n",
    "import scipy as sp"
   ]
  },
  {
   "cell_type": "code",
   "execution_count": 99,
   "metadata": {},
   "outputs": [],
   "source": [
    "file_csr = '../test_matrices/csr/2_csr.csv'\n",
    "file_tp = '../test_matrices/transposed/2_csr.csv'"
   ]
  },
  {
   "cell_type": "code",
   "execution_count": 100,
   "metadata": {},
   "outputs": [],
   "source": [
    "def load_csr(path):\n",
    "    # load CSR matrix from file\n",
    "    with open(path, newline='') as csvfile:\n",
    "        reader = csv.reader(csvfile, delimiter=' ', quotechar='|')\n",
    "        \n",
    "        # rows \n",
    "        rows = int(reader.__next__()[0])\n",
    "        \n",
    "        # columns\n",
    "        columns = int(reader.__next__()[0])\n",
    "        \n",
    "        # non-zero elements\n",
    "        nnz = int(reader.__next__()[0])\n",
    "        \n",
    "        print(f'Row: {rows}, Cols: {columns}, NNZ: {nnz}')\n",
    "        \n",
    "        # row offsets\n",
    "        row_offsets = np.array([int(ro[:-1]) for ro in reader.__next__() if len(ro) > 1])\n",
    "        \n",
    "        # column indices\n",
    "        column_indices = np.array([int(ci[:-1]) for ci in reader.__next__() if len(ci) > 1])\n",
    "        \n",
    "        # values\n",
    "        values = np.array([float(v[:-1]) for v in reader.__next__() if len(v) > 1])\n",
    "        \n",
    "    return rows, columns, row_offsets, column_indices, values"
   ]
  },
  {
   "cell_type": "code",
   "execution_count": 101,
   "metadata": {},
   "outputs": [
    {
     "name": "stdout",
     "output_type": "stream",
     "text": [
      "Row: 183, Cols: 183, NNZ: 1069\n",
      "[[ 2.56037e-03 -1.17090e-07  0.00000e+00 ...  0.00000e+00 -4.19502e-10\n",
      "   0.00000e+00]\n",
      " [-3.38343e-16  2.56277e-03  0.00000e+00 ...  0.00000e+00  0.00000e+00\n",
      "   0.00000e+00]\n",
      " [ 0.00000e+00  0.00000e+00  2.58024e-03 ...  0.00000e+00  0.00000e+00\n",
      "   0.00000e+00]\n",
      " ...\n",
      " [ 0.00000e+00  0.00000e+00  0.00000e+00 ...  2.23600e+03  0.00000e+00\n",
      "   0.00000e+00]\n",
      " [ 0.00000e+00  0.00000e+00  0.00000e+00 ...  0.00000e+00  2.23600e+03\n",
      "   0.00000e+00]\n",
      " [ 0.00000e+00  0.00000e+00  0.00000e+00 ...  0.00000e+00  0.00000e+00\n",
      "   2.23600e+03]]\n"
     ]
    }
   ],
   "source": [
    "rows, columns, row_offsets, column_indices, values = load_csr(file_csr)\n",
    "\n",
    "# build CSR matrix in scipy and transpose\n",
    "csr = sp.sparse.csr_matrix((values, column_indices, row_offsets), shape=(rows, columns))\n",
    "csc = csr.transpose()\n",
    "\n",
    "# make dense\n",
    "csc_dense = csc.todense()\n",
    "print(csc_dense)"
   ]
  },
  {
   "cell_type": "code",
   "execution_count": 102,
   "metadata": {},
   "outputs": [
    {
     "name": "stdout",
     "output_type": "stream",
     "text": [
      "Row: 183, Cols: 183, NNZ: 1069\n",
      "[[ 2.56037e-03 -1.17090e-07  0.00000e+00 ...  0.00000e+00 -4.19502e-10\n",
      "   0.00000e+00]\n",
      " [-3.38343e-16  2.56277e-03  0.00000e+00 ...  0.00000e+00  0.00000e+00\n",
      "   0.00000e+00]\n",
      " [ 0.00000e+00  0.00000e+00  2.58024e-03 ...  0.00000e+00  0.00000e+00\n",
      "   0.00000e+00]\n",
      " ...\n",
      " [ 0.00000e+00  0.00000e+00  0.00000e+00 ...  2.23600e+03  0.00000e+00\n",
      "   0.00000e+00]\n",
      " [ 0.00000e+00  0.00000e+00  0.00000e+00 ...  0.00000e+00  2.23600e+03\n",
      "   0.00000e+00]\n",
      " [ 0.00000e+00  0.00000e+00  0.00000e+00 ...  0.00000e+00  0.00000e+00\n",
      "   2.23600e+03]]\n"
     ]
    }
   ],
   "source": [
    "rows, columns, row_offsets_tp, column_indices_tp, values_tp = load_csr(file_tp)\n",
    "\n",
    "# build CSR matrix in scipy and make dense\n",
    "csr_tp_file = sp.sparse.csr_matrix((values_tp, column_indices_tp, row_offsets_tp), shape=(rows, columns))\n",
    "csr_tp_file_dense = csr_tp_file.todense()\n",
    "print(csr_tp_file_dense)\n"
   ]
  },
  {
   "cell_type": "code",
   "execution_count": 103,
   "metadata": {},
   "outputs": [
    {
     "name": "stdout",
     "output_type": "stream",
     "text": [
      "True\n"
     ]
    }
   ],
   "source": [
    "# check for equality\n",
    "close = np.allclose(csc_dense, csr_tp_file_dense)\n",
    "print(close)"
   ]
  }
 ],
 "metadata": {
  "kernelspec": {
   "display_name": "Python 3",
   "language": "python",
   "name": "python3"
  },
  "language_info": {
   "codemirror_mode": {
    "name": "ipython",
    "version": 3
   },
   "file_extension": ".py",
   "mimetype": "text/x-python",
   "name": "python",
   "nbconvert_exporter": "python",
   "pygments_lexer": "ipython3",
   "version": "3.8.10"
  }
 },
 "nbformat": 4,
 "nbformat_minor": 2
}
