{
 "cells": [
  {
   "cell_type": "code",
   "execution_count": 60,
   "metadata": {},
   "outputs": [],
   "source": [
    "import csv\n",
    "import numpy as np\n",
    "import scipy as sp"
   ]
  },
  {
   "cell_type": "code",
   "execution_count": 61,
   "metadata": {},
   "outputs": [],
   "source": [
    "file_coo = '../../test_matrices/coo/10_coo.csv'\n",
    "file_tp = '../../test_matrices/transposed/10_coo.csv'"
   ]
  },
  {
   "cell_type": "code",
   "execution_count": 62,
   "metadata": {},
   "outputs": [],
   "source": [
    "def load_coo(path):\n",
    "    # load CSR matrix from file\n",
    "    with open(path, newline='') as csvfile:\n",
    "        reader = csv.reader(csvfile, delimiter=' ', quotechar='|')\n",
    "        \n",
    "        # rows \n",
    "        rows = int(reader.__next__()[0])\n",
    "        \n",
    "        # columns\n",
    "        columns = int(reader.__next__()[0])\n",
    "        \n",
    "        # non-zero elements\n",
    "        nnz = int(reader.__next__()[0])\n",
    "        \n",
    "        print(f'Row: {rows}, Cols: {columns}, NNZ: {nnz}')\n",
    "        \n",
    "        # row offsets\n",
    "        row_indices = np.array([int(ro[:-1]) for ro in reader.__next__() if len(ro) > 1])\n",
    "        \n",
    "        # column indices\n",
    "        column_indices = np.array([int(ci[:-1]) for ci in reader.__next__() if len(ci) > 1])\n",
    "        \n",
    "        # values\n",
    "        values = np.array([float(v[:-1]) for v in reader.__next__() if len(v) > 1])\n",
    "        \n",
    "    return rows, columns, row_indices, column_indices, values"
   ]
  },
  {
   "cell_type": "code",
   "execution_count": 63,
   "metadata": {},
   "outputs": [
    {
     "name": "stdout",
     "output_type": "stream",
     "text": [
      "Row: 768, Cols: 768, NNZ: 2934\n",
      "(768, 768)\n",
      "[[ -13.489  376.99     0.    ...    0.       0.       0.   ]\n",
      " [-376.99   -13.489    0.    ...    0.       0.       0.   ]\n",
      " [   0.       0.     -13.489 ...    0.       0.       0.   ]\n",
      " ...\n",
      " [   0.       0.       0.    ...    0.       0.       0.   ]\n",
      " [   0.       0.       0.    ...    0.     -33.333    1.   ]\n",
      " [   0.       0.       0.    ...    0.       0.    -333.33 ]]\n"
     ]
    }
   ],
   "source": [
    "rows, columns, row_indices, column_indices, values = load_coo(file_coo)\n",
    "\n",
    "# build COO matrix in scipy and transpose\n",
    "coo = sp.sparse.coo_matrix((values, (row_indices, column_indices)), shape=(rows, columns))\n",
    "print(coo.shape)\n",
    "coo_tp = coo.transpose()\n",
    "\n",
    "# make dense\n",
    "coo_tp_dense = coo_tp.todense()\n",
    "print(coo_tp_dense)"
   ]
  },
  {
   "cell_type": "code",
   "execution_count": 64,
   "metadata": {},
   "outputs": [
    {
     "name": "stdout",
     "output_type": "stream",
     "text": [
      "Row: 768, Cols: 768, NNZ: 2934\n",
      "[[ -13.489  376.99     0.    ...    0.       0.       0.   ]\n",
      " [-376.99   -13.489    0.    ...    0.       0.       0.   ]\n",
      " [   0.       0.     -13.489 ...    0.       0.       0.   ]\n",
      " ...\n",
      " [   0.       0.       0.    ...    0.       0.       0.   ]\n",
      " [   0.       0.       0.    ...    0.     -33.333    1.   ]\n",
      " [   0.       0.       0.    ...    0.       0.    -333.33 ]]\n"
     ]
    }
   ],
   "source": [
    "rows, columns, row_indices_tp, column_indices_tp, values_tp = load_coo(file_tp)\n",
    "\n",
    "# build COO matrix in scipy and make dense\n",
    "coo_tp_file = sp.sparse.coo_matrix((values_tp, (row_indices_tp, column_indices_tp)), shape=(rows, columns))\n",
    "coo_tp_file_dense = coo_tp_file.todense()\n",
    "print(coo_tp_file_dense)"
   ]
  },
  {
   "cell_type": "code",
   "execution_count": 65,
   "metadata": {},
   "outputs": [
    {
     "name": "stdout",
     "output_type": "stream",
     "text": [
      "True\n"
     ]
    }
   ],
   "source": [
    "# check for equality\n",
    "close = np.allclose(coo_tp_dense, coo_tp_file_dense)\n",
    "print(close)"
   ]
  }
 ],
 "metadata": {
  "kernelspec": {
   "display_name": "Python 3 (ipykernel)",
   "language": "python",
   "name": "python3"
  },
  "language_info": {
   "codemirror_mode": {
    "name": "ipython",
    "version": 3
   },
   "file_extension": ".py",
   "mimetype": "text/x-python",
   "name": "python",
   "nbconvert_exporter": "python",
   "pygments_lexer": "ipython3",
   "version": "3.10.12"
  }
 },
 "nbformat": 4,
 "nbformat_minor": 2
}
