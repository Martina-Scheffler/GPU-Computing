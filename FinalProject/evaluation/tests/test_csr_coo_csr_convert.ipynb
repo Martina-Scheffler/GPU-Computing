{
 "cells": [
  {
   "cell_type": "code",
   "execution_count": 11,
   "metadata": {},
   "outputs": [],
   "source": [
    "import csv\n",
    "import numpy as np\n",
    "import scipy as sp"
   ]
  },
  {
   "cell_type": "code",
   "execution_count": 12,
   "metadata": {},
   "outputs": [],
   "source": [
    "file_csr = '../../test_matrices/csr/1_csr.csv'\n",
    "file_csr_converted = '../../test_matrices/transposed/1_csr.csv'"
   ]
  },
  {
   "cell_type": "code",
   "execution_count": 13,
   "metadata": {},
   "outputs": [],
   "source": [
    "def load_csr(path):\n",
    "    # load CSR matrix from file\n",
    "    with open(path, newline='') as csvfile:\n",
    "        reader = csv.reader(csvfile, delimiter=' ', quotechar='|')\n",
    "        \n",
    "        # rows \n",
    "        rows = int(reader.__next__()[0])\n",
    "        \n",
    "        # columns\n",
    "        columns = int(reader.__next__()[0])\n",
    "        \n",
    "        # non-zero elements\n",
    "        nnz = int(reader.__next__()[0])\n",
    "        \n",
    "        print(f'Row: {rows}, Cols: {columns}, NNZ: {nnz}')\n",
    "        \n",
    "        # row offsets\n",
    "        row_offsets = np.array([int(ro[:-1]) for ro in reader.__next__() if len(ro) > 1])\n",
    "        \n",
    "        # column indices\n",
    "        column_indices = np.array([int(ci[:-1]) for ci in reader.__next__() if len(ci) > 1])\n",
    "        \n",
    "        # values\n",
    "        values = np.array([float(v[:-1]) for v in reader.__next__() if len(v) > 1])\n",
    "        \n",
    "    return rows, columns, row_offsets, column_indices, values"
   ]
  },
  {
   "cell_type": "code",
   "execution_count": 14,
   "metadata": {},
   "outputs": [
    {
     "name": "stdout",
     "output_type": "stream",
     "text": [
      "Row: 768, Cols: 768, NNZ: 2934\n",
      "[[ -13.489 -376.99     0.    ...    0.       0.       0.   ]\n",
      " [ 376.99   -13.489    0.    ...    0.       0.       0.   ]\n",
      " [   0.       0.     -13.489 ...    0.       0.       0.   ]\n",
      " ...\n",
      " [   0.       0.       0.    ...    0.       0.       0.   ]\n",
      " [   0.       0.       0.    ...    0.     -33.333    0.   ]\n",
      " [   0.       0.       0.    ...    0.       1.    -333.33 ]]\n"
     ]
    }
   ],
   "source": [
    "rows, columns, row_offsets, column_indices, values = load_csr(file_csr)\n",
    "\n",
    "# build old CSR matrix in scipy and make dense\n",
    "csr = sp.sparse.csr_matrix((values, column_indices, row_offsets), shape=(rows, columns))\n",
    "csr_dense = csr.todense()\n",
    "\n",
    "print(csr_dense)"
   ]
  },
  {
   "cell_type": "code",
   "execution_count": 15,
   "metadata": {},
   "outputs": [
    {
     "name": "stdout",
     "output_type": "stream",
     "text": [
      "Row: 768, Cols: 768, NNZ: 2934\n",
      "[[ -13.489 -376.99     0.    ...    0.       0.       0.   ]\n",
      " [ 376.99   -13.489    0.    ...    0.       0.       0.   ]\n",
      " [   0.       0.     -13.489 ...    0.       0.       0.   ]\n",
      " ...\n",
      " [   0.       0.       0.    ...    0.       0.       0.   ]\n",
      " [   0.       0.       0.    ...    0.     -33.333    0.   ]\n",
      " [   0.       0.       0.    ...    0.       1.    -333.33 ]]\n"
     ]
    }
   ],
   "source": [
    "rows, columns, row_offsets, column_indices, values = load_csr(file_csr_converted)\n",
    "\n",
    "# build old CSR matrix in scipy and make dense\n",
    "csr_converted = sp.sparse.csr_matrix((values, column_indices, row_offsets), shape=(rows, columns))\n",
    "csr_dense_converted = csr_converted.todense()\n",
    "\n",
    "print(csr_dense_converted)"
   ]
  },
  {
   "cell_type": "code",
   "execution_count": 16,
   "metadata": {},
   "outputs": [
    {
     "name": "stdout",
     "output_type": "stream",
     "text": [
      "True\n"
     ]
    }
   ],
   "source": [
    "# check for equality\n",
    "close = np.allclose(csr_dense, csr_dense_converted)\n",
    "print(close)"
   ]
  }
 ],
 "metadata": {
  "kernelspec": {
   "display_name": "Python 3",
   "language": "python",
   "name": "python3"
  },
  "language_info": {
   "codemirror_mode": {
    "name": "ipython",
    "version": 3
   },
   "file_extension": ".py",
   "mimetype": "text/x-python",
   "name": "python",
   "nbconvert_exporter": "python",
   "pygments_lexer": "ipython3",
   "version": "3.10.12"
  }
 },
 "nbformat": 4,
 "nbformat_minor": 2
}
